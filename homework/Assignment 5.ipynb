{
 "cells": [
  {
   "cell_type": "markdown",
   "metadata": {},
   "source": [
    "# Assignment 5\n",
    "\n",
    "*(Due Saturday, October 19, 2019 at noon.)*"
   ]
  },
  {
   "cell_type": "markdown",
   "metadata": {},
   "source": [
    "1) Describe steps needed to clean your dataset. Are there badly-formatted or missing values that will need to be handled? Are you working with multiple files that need to be merged? Do you need to create any new derived fields? Describe the steps you expect to take to clean your data and prepare it for analysis."
   ]
  },
  {
   "cell_type": "markdown",
   "metadata": {},
   "source": [
    "Because my data set was so large, I had to limit the amount of information to be drawn from. The way that I accomlished that was by adding a an if statement to break Data after 1000. I expect to do this to review all the data, continuosly break them in chunks in order for Jupyter to read the information."
   ]
  },
  {
   "cell_type": "markdown",
   "metadata": {},
   "source": [
    "2) Make a list of the fields in your data, including their names and types. If your input file is in a fixed-width format, also \n",
    "give the columns where each field appears in the data. There should be a \"codebook\" provided with your data that provides these details."
   ]
  },
  {
   "cell_type": "markdown",
   "metadata": {},
   "source": [
    "'STNAM', 'FIPST', 'LEAID', 'ST_LEAID', 'LEANM', 'ALL_COHORT_1617', 'ALL_RATE_1617', 'MAM_COHORT_1617', 'MAM_RATE_1617', 'MAS_COHORT_1617', 'MAS_RATE_1617', 'MBL_COHORT_1617', 'MBL_RATE_1617', 'MHI_COHORT_1617', 'MHI_RATE_1617', 'MTR_COHORT_1617', 'MTR_RATE_1617', 'MWH_COHORT_1617', 'MWH_RATE_1617', 'CWD_COHORT_1617', 'CWD_RATE_1617', 'ECD_COHORT_1617', 'ECD_RATE_1617', 'LEP_COHORT_1617', 'LEP_RATE_1617', 'DATE_CUR'\n",
    "\n",
    "DATE_CUR\tCharacter\n",
    "ALL_COHORT_1617\tNumber\n",
    "ALL_RATE_1617\tCharacter\n",
    "MAM_COHORT_1617\tNumber\n",
    "MAM_RATE_1617\tCharacter\n",
    "MAS_COHORT_1617\tNumber\n",
    "MAS_RATE_1617\tCharacter\n",
    "MBL_COHORT_1617\tNumber\n",
    "MBL_RATE_1617\tCharacter\n",
    "MHI_COHORT_1617\tNumber\n",
    "MHI_RATE_1617\tCharacter\n",
    "MTR_COHORT_1617\tNumber\n",
    "MTR_RATE_1617\tCharacter\n",
    "MWH_COHORT_1617\tNumber\n",
    "MWH_RATE_1617\tCharacter\n",
    "CWD_COHORT_1617\tNumber\n",
    "CWD_RATE_1617\tCharacter\n",
    "ECD_COHORT_1617\tNumber\n",
    "ECD_RATE_1617\tCharacter\n",
    "LEP_COHORT_1617\tNumber\n"
   ]
  },
  {
   "cell_type": "markdown",
   "metadata": {},
   "source": [
    "3) List at least 3 questions you hope to be able to answer by analyzing your data."
   ]
  },
  {
   "cell_type": "markdown",
   "metadata": {},
   "source": [
    "1. Which State Had the most suscessfu graduation rate?\n",
    "2. Which had the least?\n",
    "3. Which region had the best rates?"
   ]
  },
  {
   "cell_type": "markdown",
   "metadata": {},
   "source": [
    "**Finally,** run the next two blocks."
   ]
  },
  {
   "cell_type": "code",
   "execution_count": 1,
   "metadata": {},
   "outputs": [
    {
     "data": {
      "text/plain": [
       "'1.2.0'"
      ]
     },
     "execution_count": 1,
     "metadata": {},
     "output_type": "execute_result"
    }
   ],
   "source": [
    "import xlrd\n",
    "xlrd.__version__"
   ]
  },
  {
   "cell_type": "code",
   "execution_count": 3,
   "metadata": {},
   "outputs": [
    {
     "data": {
      "text/plain": [
       "'2.6.2'"
      ]
     },
     "execution_count": 3,
     "metadata": {},
     "output_type": "execute_result"
    }
   ],
   "source": [
    "import openpyxl\n",
    "openpyxl.__version__"
   ]
  },
  {
   "cell_type": "code",
   "execution_count": null,
   "metadata": {},
   "outputs": [],
   "source": []
  },
  {
   "cell_type": "markdown",
   "metadata": {},
   "source": [
    "#### Submitting\n",
    "\n",
    "In the Terminal (Mac) or Git Bash (Windows):\n",
    "\n",
    "`git commit -a -m 'Assignment 3 completed'`  \n",
    "`git push`"
   ]
  },
  {
   "cell_type": "markdown",
   "metadata": {},
   "source": [
    "### Reading\n",
    "\n",
    "1. [RegexOne](https://regexone.com/): Lessons 1 through 10, and the [Python Reference](https://regexone.com/references/python)\n",
    "2. [10 Minutes to Pandas](https://pandas.pydata.org/pandas-docs/stable/getting_started/10min.html)\n",
    "3. [_Python for Data Analysis_](https://uri-primo.hosted.exlibrisgroup.com/permalink/f/10nopmq/01URI_ALMA51209454630002396):\n",
    "    * Section 1.3, \"Essential Python Libraries\"\n",
    "    * Chapter 5, \"Getting Started with `pandas`\"\n",
    "    * Sections 6.1, \"Reading and Writing Data in Text Format\" and 6.2, \"Binary Data Formats\""
   ]
  }
 ],
 "metadata": {
  "kernelspec": {
   "display_name": "Python 3",
   "language": "python",
   "name": "python3"
  },
  "language_info": {
   "codemirror_mode": {
    "name": "ipython",
    "version": 3
   },
   "file_extension": ".py",
   "mimetype": "text/x-python",
   "name": "python",
   "nbconvert_exporter": "python",
   "pygments_lexer": "ipython3",
   "version": "3.7.3"
  }
 },
 "nbformat": 4,
 "nbformat_minor": 2
}
